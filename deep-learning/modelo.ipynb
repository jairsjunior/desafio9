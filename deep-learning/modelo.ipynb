{
  "nbformat": 4,
  "nbformat_minor": 0,
  "metadata": {
    "kernelspec": {
      "display_name": "Python 3.6",
      "language": "python",
      "name": "python3"
    },
    "language_info": {
      "codemirror_mode": {
        "name": "ipython",
        "version": 3
      },
      "file_extension": ".py",
      "mimetype": "text/x-python",
      "name": "python",
      "nbconvert_exporter": "python",
      "pygments_lexer": "ipython3",
      "version": "3.6.8"
    },
    "colab": {
      "name": "modelo.ipynb",
      "version": "0.3.2",
      "provenance": [],
      "collapsed_sections": []
    }
  },
  "cells": [
    {
      "cell_type": "markdown",
      "metadata": {
        "id": "8emFYHvsln-Z",
        "colab_type": "text"
      },
      "source": [
        "# Desafio #9"
      ]
    },
    {
      "cell_type": "markdown",
      "metadata": {
        "id": "O9cUzVxOln-j",
        "colab_type": "text"
      },
      "source": [
        "### Instalação de libs requeridas"
      ]
    },
    {
      "cell_type": "code",
      "metadata": {
        "scrolled": true,
        "id": "waVTobe0ln-n",
        "colab_type": "code",
        "colab": {}
      },
      "source": [
        "!pip install opencv-python imutils ibm-cos-sdk watson-machine-learning-client"
      ],
      "execution_count": 0,
      "outputs": []
    },
    {
      "cell_type": "code",
      "metadata": {
        "id": "Le2Hgxihln_D",
        "colab_type": "code",
        "colab": {}
      },
      "source": [
        "# Libs de apoio\n",
        "import pandas as pd\n",
        "import numpy as np\n",
        "import matplotlib.pyplot as plt\n",
        "from IPython.display import Image, display\n",
        "import os , random , json , requests\n",
        "import types\n",
        "import pandas as pd\n",
        "\n",
        "# Libs para criação de modelo DeepLearning\n",
        "# ATENÇÃO - Não utilizar o Keras interno do Tensorflow por incompatibilidade com o WML\n",
        "import tensorflow as tf\n",
        "import keras\n",
        "from keras.models import Sequential\n",
        "from keras.layers import Dense, Activation, Dropout, Flatten\n",
        "from keras.layers import Conv2D\n",
        "from keras.layers import MaxPooling2D\n",
        "from keras.layers import InputLayer\n",
        "from keras.preprocessing import image as Kimage\n",
        "from keras.preprocessing.image import img_to_array\n",
        "from sklearn.preprocessing import LabelBinarizer\n",
        "from sklearn.model_selection import train_test_split\n",
        "from keras.preprocessing.image import ImageDataGenerator\n",
        "from imutils import paths\n",
        "\n",
        "# Libs para comunicação APIs Watson IBM\n",
        "from ibm_botocore.client import Config\n",
        "import ibm_boto3\n",
        "from watson_machine_learning_client import WatsonMachineLearningAPIClient"
      ],
      "execution_count": 0,
      "outputs": []
    },
    {
      "cell_type": "markdown",
      "metadata": {
        "id": "8Yb6r7Shln_U",
        "colab_type": "text"
      },
      "source": [
        "### Download do Dataset(imagens) da competição"
      ]
    },
    {
      "cell_type": "code",
      "metadata": {
        "id": "qlCHEiIWln_Y",
        "colab_type": "code",
        "colab": {}
      },
      "source": [
        "!wget -O dataset102.zip https://www.dropbox.com/s/trcr1k2dfmk8b44/DatasetBHTC.zip?dl=0\n",
        "\n",
        "!unzip -o ./dataset102.zip\n",
        "!mkdir DATASET\n",
        "!mv CLEAN DIRTY DATASET"
      ],
      "execution_count": 0,
      "outputs": []
    },
    {
      "cell_type": "markdown",
      "metadata": {
        "id": "0Z4PrbaFln_m",
        "colab_type": "text"
      },
      "source": [
        "### Definição do Modelo - Não alterar o input_shape"
      ]
    },
    {
      "cell_type": "code",
      "metadata": {
        "id": "saWEYBksln_o",
        "colab_type": "code",
        "colab": {}
      },
      "source": [
        "random.seed(1)\n",
        "model = Sequential()\n",
        "model.add(Conv2D(16, (3,3), input_shape=(96,96,3), padding='same', activation='relu'))\n",
        "model.add(MaxPooling2D(pool_size=(2,2),strides=(2,2)))\n",
        "model.add(Conv2D(16, (3,3), padding='same', activation='relu'))\n",
        "model.add(Conv2D(32, (3,3), padding='same', activation='relu'))\n",
        "model.add(MaxPooling2D(pool_size=(2,2),strides=(2,2)))\n",
        "model.add(Flatten())\n",
        "model.add(Dense(128, activation='relu'))\n",
        "model.add(Dense(2, activation='sigmoid'))\n",
        "\n",
        "model.compile(loss='binary_crossentropy',\n",
        "              optimizer='adam',\n",
        "              metrics=['accuracy'])\n",
        "\n",
        "model.summary()"
      ],
      "execution_count": 0,
      "outputs": []
    },
    {
      "cell_type": "markdown",
      "metadata": {
        "id": "OPeSStIRln_x",
        "colab_type": "text"
      },
      "source": [
        "### Load das imagens, já com pre-processing, para utilizar no Train do modelo"
      ]
    },
    {
      "cell_type": "code",
      "metadata": {
        "id": "q7-r59wqln_0",
        "colab_type": "code",
        "colab": {}
      },
      "source": [
        "imagePaths = sorted(list(paths.list_images('DATASET/')))\n",
        "\n",
        "random.seed(1)\n",
        "random.shuffle(imagePaths)\n",
        "\n",
        "data = []\n",
        "labels = []\n",
        "\n",
        "for imagePath in imagePaths:\n",
        "    image = Kimage.load_img(imagePath,target_size=(96,96))\n",
        "    image = img_to_array(image)\n",
        "    data.append(image)\n",
        "    label = imagePath.split(os.path.sep)[-2]\n",
        "    labels.append(label)"
      ],
      "execution_count": 0,
      "outputs": []
    },
    {
      "cell_type": "markdown",
      "metadata": {
        "id": "0ngnd1HhloAC",
        "colab_type": "text"
      },
      "source": [
        "### Split do dataset em Train e Test"
      ]
    },
    {
      "cell_type": "code",
      "metadata": {
        "id": "3YXKtqK8loAH",
        "colab_type": "code",
        "colab": {}
      },
      "source": [
        "classes = ['CLEAN', 'DIRTY']\n",
        "lb = LabelBinarizer()\n",
        "labels = lb.fit_transform(labels)\n",
        "data = np.array(data, dtype=\"float\") / 255.0\n",
        "\n",
        "(trainX, testX, trainY, testY) = train_test_split(data, labels, test_size=0.2, random_state=1)\n",
        "\n",
        "print(\"shape de X de treino :\",trainX.shape)\n",
        "print(\"shape de Y de treino :\",trainY.shape)\n",
        "print(\"shape de X de teste :\",testX.shape)\n",
        "print(\"shape de Y de teste :\",testY.shape)"
      ],
      "execution_count": 0,
      "outputs": []
    },
    {
      "cell_type": "markdown",
      "metadata": {
        "id": "Tlq8mT-BloAZ",
        "colab_type": "text"
      },
      "source": [
        "### Treinamento do modelo - utilizando DataGenerator"
      ]
    },
    {
      "cell_type": "code",
      "metadata": {
        "id": "uop7wLbsloAb",
        "colab_type": "code",
        "colab": {}
      },
      "source": [
        "aug = ImageDataGenerator(\n",
        "    rotation_range=20,\n",
        "    zoom_range=0.15,\n",
        "    width_shift_range=0.2,\n",
        "    height_shift_range=0.2,\n",
        "    shear_range=0.15,\n",
        "    horizontal_flip=True,\n",
        "    fill_mode=\"nearest\")"
      ],
      "execution_count": 0,
      "outputs": []
    },
    {
      "cell_type": "code",
      "metadata": {
        "id": "Hlc_6hT2loAl",
        "colab_type": "code",
        "colab": {}
      },
      "source": [
        "random.seed(1)\n",
        "model.fit_generator(\n",
        "    aug.flow(trainX, trainY, batch_size=16),\n",
        "    validation_data=(testX, testY),\n",
        "    steps_per_epoch=len(trainX) // 16,\n",
        "    epochs=40)"
      ],
      "execution_count": 0,
      "outputs": []
    },
    {
      "cell_type": "markdown",
      "metadata": {
        "id": "Fcwlc8RsloA2",
        "colab_type": "text"
      },
      "source": [
        "### Gráficos para avaliação do modelo"
      ]
    },
    {
      "cell_type": "code",
      "metadata": {
        "id": "j43KSiYNloBD",
        "colab_type": "code",
        "colab": {}
      },
      "source": [
        "H=model.history\n",
        "plt.rcParams['figure.figsize'] = 16, 8\n",
        "plt.figure()\n",
        "N = H.epoch[-1]+1\n",
        "plt.plot(np.arange(0, N), H.history[\"loss\"], label=\"train_loss\")\n",
        "plt.plot(np.arange(0, N), H.history[\"val_loss\"], label=\"val_loss\")\n",
        "plt.plot(np.arange(0, N), H.history[\"acc\"], label=\"train_acc\")\n",
        "plt.plot(np.arange(0, N), H.history[\"val_acc\"], label=\"val_acc\")\n",
        "plt.title(\"Training Loss and Accuracy\")\n",
        "plt.xlabel(\"Epoch #\")\n",
        "plt.ylabel(\"Loss/Accuracy\")\n",
        "plt.legend(loc=\"upper left\")"
      ],
      "execution_count": 0,
      "outputs": []
    },
    {
      "cell_type": "markdown",
      "metadata": {
        "id": "1BMnv0bLloBR",
        "colab_type": "text"
      },
      "source": [
        "### Save do modelo como model.h5"
      ]
    },
    {
      "cell_type": "code",
      "metadata": {
        "id": "_iyBavXBloBX",
        "colab_type": "code",
        "colab": {}
      },
      "source": [
        "model.save(\"model_WSTUDIO.h5\")"
      ],
      "execution_count": 0,
      "outputs": []
    },
    {
      "cell_type": "markdown",
      "metadata": {
        "id": "0IMspnLkloCH",
        "colab_type": "text"
      },
      "source": [
        "### Teste do Modelo"
      ]
    },
    {
      "cell_type": "code",
      "metadata": {
        "id": "G-C8asUWloCJ",
        "colab_type": "code",
        "colab": {}
      },
      "source": [
        "# Download de imagem teste\n",
        "!wget -O teste2.jpg https://www.dropbox.com/s/73fofwe566749sl/teste123.jpg?dl=0"
      ],
      "execution_count": 0,
      "outputs": []
    },
    {
      "cell_type": "code",
      "metadata": {
        "id": "6FH_IAMeloCY",
        "colab_type": "code",
        "colab": {}
      },
      "source": [
        "# Load da imagem de teste e pre-processing da mesma - para entrada na rede neural convolucional\n",
        "image = Kimage.load_img(\"teste2.jpg\")\n",
        "plt.imshow(image)\n",
        "image = image.resize(size=(96,96))\n",
        "image = img_to_array(image)\n",
        "image = np.array(image, dtype=\"float\") / 255.0\n",
        "image = np.expand_dims(image,axis=0)\n",
        "image = image.tolist()\n",
        "\n",
        "resultItem = model.predict_classes([image])\n",
        "\n",
        "print(\"\\nImagem Classificada como : \", classes[resultItem[0]])\n"
      ],
      "execution_count": 0,
      "outputs": []
    },
    {
      "cell_type": "markdown",
      "metadata": {
        "id": "hpw222qwloCg",
        "colab_type": "text"
      },
      "source": [
        "# BOA SORTE"
      ]
    }
  ]
}